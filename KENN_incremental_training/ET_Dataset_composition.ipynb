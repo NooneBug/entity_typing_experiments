{
 "cells": [
  {
   "cell_type": "code",
   "execution_count": 1,
   "metadata": {},
   "outputs": [],
   "source": [
    "base_dataset_path = '../../datasets/ren_et_al/'\n",
    "\n",
    "dataset_name_path = 'figer/'\n",
    "\n",
    "types_list_path = 'all_types.txt'\n",
    "\n",
    "train_path = 'train.json'\n",
    "dev_path = 'dev.json'\n",
    "test_path = 'test.json'\n",
    "\n",
    "dir_for_partitioned_datasets = '../../datasets/datasets_for_incremental_training/'"
   ]
  },
  {
   "cell_type": "code",
   "execution_count": 2,
   "metadata": {},
   "outputs": [
    {
     "data": {
      "text/plain": [
       "['/art',\n",
       " '/art/film',\n",
       " '/astral_body',\n",
       " '/award',\n",
       " '/biology',\n",
       " '/body_part',\n",
       " '/broadcast',\n",
       " '/broadcast/tv_channel',\n",
       " '/broadcast_network',\n",
       " '/broadcast_program',\n",
       " '/building',\n",
       " '/building/airport',\n",
       " '/building/dam',\n",
       " '/building/hospital',\n",
       " '/building/hotel',\n",
       " '/building/library',\n",
       " '/building/power_station',\n",
       " '/building/restaurant',\n",
       " '/building/sports_facility',\n",
       " '/building/theater',\n",
       " '/chemistry',\n",
       " '/computer',\n",
       " '/computer/algorithm',\n",
       " '/computer/programming_language',\n",
       " '/disease',\n",
       " '/education',\n",
       " '/education/department',\n",
       " '/education/educational_degree',\n",
       " '/event',\n",
       " '/event/attack',\n",
       " '/event/election',\n",
       " '/event/military_conflict',\n",
       " '/event/natural_disaster',\n",
       " '/event/protest',\n",
       " '/event/sports_event',\n",
       " '/event/terrorist_attack',\n",
       " '/finance',\n",
       " '/finance/currency',\n",
       " '/finance/stock_exchange',\n",
       " '/food',\n",
       " '/game',\n",
       " '/geography',\n",
       " '/geography/glacier',\n",
       " '/geography/island',\n",
       " '/geography/mountain',\n",
       " '/god',\n",
       " '/government',\n",
       " '/government/government',\n",
       " '/government/political_party',\n",
       " '/government_agency',\n",
       " '/internet',\n",
       " '/internet/website',\n",
       " '/language',\n",
       " '/law',\n",
       " '/living_thing',\n",
       " '/living_thing/animal',\n",
       " '/location',\n",
       " '/location/body_of_water',\n",
       " '/location/bridge',\n",
       " '/location/cemetery',\n",
       " '/location/city',\n",
       " '/location/country',\n",
       " '/location/county',\n",
       " '/location/province',\n",
       " '/medicine',\n",
       " '/medicine/drug',\n",
       " '/medicine/medical_treatment',\n",
       " '/medicine/symptom',\n",
       " '/metropolitan_transit',\n",
       " '/metropolitan_transit/transit_line',\n",
       " '/military',\n",
       " '/music',\n",
       " '/news_agency',\n",
       " '/newspaper',\n",
       " '/organization',\n",
       " '/organization/airline',\n",
       " '/organization/company',\n",
       " '/organization/educational_institution',\n",
       " '/organization/fraternity_sorority',\n",
       " '/organization/sports_league',\n",
       " '/organization/sports_team',\n",
       " '/organization/terrorist_organization',\n",
       " '/park',\n",
       " '/people',\n",
       " '/people/ethnicity',\n",
       " '/person',\n",
       " '/person/actor',\n",
       " '/person/architect',\n",
       " '/person/artist',\n",
       " '/person/athlete',\n",
       " '/person/author',\n",
       " '/person/coach',\n",
       " '/person/director',\n",
       " '/person/doctor',\n",
       " '/person/engineer',\n",
       " '/person/monarch',\n",
       " '/person/musician',\n",
       " '/person/politician',\n",
       " '/person/religious_leader',\n",
       " '/person/soldier',\n",
       " '/person/terrorist',\n",
       " '/play',\n",
       " '/product',\n",
       " '/product/airplane',\n",
       " '/product/camera',\n",
       " '/product/car',\n",
       " '/product/computer',\n",
       " '/product/engine_device',\n",
       " '/product/instrument',\n",
       " '/product/mobile_phone',\n",
       " '/product/ship',\n",
       " '/product/spacecraft',\n",
       " '/product/weapon',\n",
       " '/rail',\n",
       " '/rail/railway',\n",
       " '/religion',\n",
       " '/religion/religion',\n",
       " '/software',\n",
       " '/time',\n",
       " '/title',\n",
       " '/train',\n",
       " '/transit',\n",
       " '/transportation',\n",
       " '/transportation/road',\n",
       " '/visual_art',\n",
       " '/visual_art/color',\n",
       " '/written_work']"
      ]
     },
     "execution_count": 2,
     "metadata": {},
     "output_type": "execute_result"
    }
   ],
   "source": [
    "with open(base_dataset_path + dataset_name_path + types_list_path, 'r') as inp:\n",
    "    types = inp.readlines()\n",
    "    types = [l.replace('\\n', '') for l in types]\n",
    "types"
   ]
  },
  {
   "cell_type": "code",
   "execution_count": 19,
   "metadata": {},
   "outputs": [],
   "source": [
    "from networkx import DiGraph\n",
    "\n",
    "graph = DiGraph()\n",
    "\n",
    "for t in types:\n",
    "    graph.add_node(t)\n",
    "\n",
    "for n in graph.nodes:\n",
    "    for n2 in graph:\n",
    "        if n + '/' in n2 and n2 not in n:\n",
    "            graph.add_edge(n, n2)"
   ]
  },
  {
   "cell_type": "code",
   "execution_count": 27,
   "metadata": {},
   "outputs": [
    {
     "data": {
      "text/plain": [
       "['/broadcast/tv_channel']"
      ]
     },
     "execution_count": 27,
     "metadata": {},
     "output_type": "execute_result"
    }
   ],
   "source": [
    "list(graph.successors('/broadcast'))"
   ]
  },
  {
   "cell_type": "code",
   "execution_count": 28,
   "metadata": {},
   "outputs": [
    {
     "data": {
      "text/plain": [
       "[]"
      ]
     },
     "execution_count": 28,
     "metadata": {},
     "output_type": "execute_result"
    }
   ],
   "source": [
    "list(graph.predecessors('/art'))"
   ]
  },
  {
   "cell_type": "code",
   "execution_count": 29,
   "metadata": {},
   "outputs": [
    {
     "name": "stdout",
     "output_type": "stream",
     "text": [
      "Number of types: 127\n",
      "Number of fathers: 22\n",
      "Number of sons: 79\n",
      "Number of isolated: 26\n"
     ]
    }
   ],
   "source": [
    "print('Number of types: {}'.format(len(graph.nodes)))\n",
    "print('Number of fathers: {}'.format(sum([1 if len(list(graph.successors(n))) else 0 for n in graph.nodes])))\n",
    "print('Number of sons: {}'.format(sum([1 if len(list(graph.predecessors(n))) else 0 for n in graph.nodes])))\n",
    "print('Number of isolated: {}'.format(sum([1 if not len(list(graph.predecessors(n))) and not len(list(graph.successors(n))) else 0 for n in graph.nodes])))"
   ]
  },
  {
   "cell_type": "markdown",
   "metadata": {},
   "source": [
    "# Count the examples by type"
   ]
  },
  {
   "cell_type": "code",
   "execution_count": 110,
   "metadata": {},
   "outputs": [],
   "source": [
    "import json\n",
    "with open(base_dataset_path + dataset_name_path + dev_path, 'r') as inp:\n",
    "    lines = [json.loads(l) for l in inp.readlines()]"
   ]
  },
  {
   "cell_type": "code",
   "execution_count": 111,
   "metadata": {},
   "outputs": [],
   "source": [
    "from collections import defaultdict\n",
    "from tqdm import tqdm\n",
    "\n",
    "def print_counter_table(type_name):\n",
    "    counter = defaultdict(int)\n",
    "    for l in tqdm(lines):\n",
    "        if type_name in l['y_str']:\n",
    "            counter[type_name] += 1\n",
    "            for t in l['y_str']:\n",
    "                if type_name + '/' in t and type_name != t:\n",
    "                    counter[t] += 1\n",
    "            if not [t for t in l['y_str'] if type_name + '/' in t and type_name != t ]:\n",
    "                counter['-'] += 1\n",
    "    \n",
    "    print('|{:^20}|{:^20}|{:^20}|'.format('Type', 'Absolute', 'Relative'))\n",
    "    print('|{:-^20}|{:-^20}|{:-^20}|'.format('', '', ''))\n",
    "    print('|{:^20}|{:^20}|{:^20.4f}|'.format('-', counter['-'], counter['-']/len(lines)))\n",
    "    for t, total in counter.items():\n",
    "        if t not in ['-', type_name]:\n",
    "            print('|{:^20}|{:^20}|{:^20.4f}|'.format(t, counter[t], counter[t]/len(lines)))\n",
    "    print('|{:^20}|{:^20}|{:^20.4f}|'.format(type_name, counter[type_name], counter[type_name]/len(lines)))\n",
    "    \n",
    "\n",
    "def print_counter_tsv(type_name):\n",
    "    counter = defaultdict(int)\n",
    "    for l in lines:\n",
    "        if type_name in l['y_str']:\n",
    "            counter[type_name] += 1\n",
    "            for t in l['y_str']:\n",
    "                if type_name + '/' in t and type_name != t:\n",
    "                    counter[t] += 1\n",
    "            if not [t for t in l['y_str'] if type_name + '/' in t and type_name != t ]:\n",
    "                counter['-'] += 1\n",
    "    \n",
    "    \n",
    "    print('{:^20}\\t{:^20}\\t{:^20.4f}'.format('-', counter['-'], counter['-']/len(lines)))\n",
    "    for t, total in counter.items():\n",
    "        if t not in ['-', type_name]:\n",
    "            print('{:^20}\\t{:^20}\\t{:^20.4f}'.format(t, counter[t], counter[t]/len(lines)))\n",
    "    print('{:^20}\\t{:^20}\\t{:^20.4f}'.format('TOTAL', counter[type_name], counter[type_name]/len(lines)))\n",
    "    \n",
    "        "
   ]
  },
  {
   "cell_type": "code",
   "execution_count": 112,
   "metadata": {},
   "outputs": [
    {
     "data": {
      "text/plain": [
       "1094"
      ]
     },
     "execution_count": 112,
     "metadata": {},
     "output_type": "execute_result"
    }
   ],
   "source": [
    "len(lines)"
   ]
  },
  {
   "cell_type": "code",
   "execution_count": 113,
   "metadata": {},
   "outputs": [
    {
     "data": {
      "text/plain": [
       "{'left_context_token': ['\"',\n",
       "  'Jihadism',\n",
       "  '\"',\n",
       "  'in',\n",
       "  'this',\n",
       "  'sense',\n",
       "  'covers',\n",
       "  'both',\n",
       "  'Mujahideen',\n",
       "  'guerilla',\n",
       "  'warfare',\n",
       "  'and',\n",
       "  'Islamic',\n",
       "  'terrorism',\n",
       "  'with',\n",
       "  'an',\n",
       "  'international',\n",
       "  'scope',\n",
       "  'as',\n",
       "  'it',\n",
       "  'arose',\n",
       "  'from',\n",
       "  'the',\n",
       "  '1980s',\n",
       "  ',',\n",
       "  'since',\n",
       "  'the',\n",
       "  '1990s',\n",
       "  'substantially',\n",
       "  'represented',\n",
       "  'by',\n",
       "  'the'],\n",
       " 'mention_span': 'al-Qaeda',\n",
       " 'right_context_token': ['network', '.'],\n",
       " 'y_str': ['/government',\n",
       "  '/government/political_party',\n",
       "  '/organization',\n",
       "  '/organization/terrorist_organization']}"
      ]
     },
     "execution_count": 113,
     "metadata": {},
     "output_type": "execute_result"
    }
   ],
   "source": [
    "lines[0]"
   ]
  },
  {
   "cell_type": "code",
   "execution_count": 114,
   "metadata": {},
   "outputs": [],
   "source": [
    "type_name = '/art'"
   ]
  },
  {
   "cell_type": "code",
   "execution_count": 115,
   "metadata": {},
   "outputs": [
    {
     "name": "stderr",
     "output_type": "stream",
     "text": [
      "100%|█████████████████████████████████████████████████████████████████████████████████████████████████████████████████████████████| 1094/1094 [00:00<00:00, 626169.29it/s]"
     ]
    },
    {
     "name": "stdout",
     "output_type": "stream",
     "text": [
      "|        Type        |      Absolute      |      Relative      |\n",
      "|--------------------|--------------------|--------------------|\n",
      "|         -          |         1          |       0.0009       |\n",
      "|     /art/film      |         8          |       0.0073       |\n",
      "|        /art        |         9          |       0.0082       |\n"
     ]
    },
    {
     "name": "stderr",
     "output_type": "stream",
     "text": [
      "\n"
     ]
    }
   ],
   "source": [
    "print_counter_table(type_name)"
   ]
  },
  {
   "cell_type": "code",
   "execution_count": 116,
   "metadata": {},
   "outputs": [
    {
     "name": "stdout",
     "output_type": "stream",
     "text": [
      "         -          \t         1          \t       0.0009       \n",
      "     /art/film      \t         8          \t       0.0073       \n",
      "       TOTAL        \t         9          \t       0.0082       \n"
     ]
    }
   ],
   "source": [
    "print_counter_tsv(type_name)"
   ]
  },
  {
   "cell_type": "code",
   "execution_count": 117,
   "metadata": {},
   "outputs": [
    {
     "name": "stdout",
     "output_type": "stream",
     "text": [
      "         -          \t         1          \t       0.0009       \n",
      "     /art/film      \t         8          \t       0.0073       \n",
      "       TOTAL        \t         9          \t       0.0082       \n",
      "         -          \t         0          \t       0.0000       \n",
      "/broadcast/tv_channel\t         1          \t       0.0009       \n",
      "       TOTAL        \t         1          \t       0.0009       \n",
      "         -          \t         30         \t       0.0274       \n",
      " /building/theater  \t         2          \t       0.0018       \n",
      "/building/sports_facility\t         6          \t       0.0055       \n",
      "/building/restaurant\t         1          \t       0.0009       \n",
      " /building/hospital \t         1          \t       0.0009       \n",
      " /building/airport  \t         1          \t       0.0009       \n",
      "  /building/hotel   \t         1          \t       0.0009       \n",
      "       TOTAL        \t         42         \t       0.0384       \n",
      "         -          \t         0          \t       0.0000       \n",
      "       TOTAL        \t         0          \t       0.0000       \n",
      "         -          \t         0          \t       0.0000       \n",
      "/education/educational_degree\t         5          \t       0.0046       \n",
      "       TOTAL        \t         5          \t       0.0046       \n",
      "         -          \t         30         \t       0.0274       \n",
      "  /event/election   \t         6          \t       0.0055       \n",
      "   /event/attack    \t         6          \t       0.0055       \n",
      "/event/military_conflict\t         19         \t       0.0174       \n",
      "/event/sports_event \t         7          \t       0.0064       \n",
      "/event/natural_disaster\t         2          \t       0.0018       \n",
      "   /event/protest   \t         1          \t       0.0009       \n",
      "       TOTAL        \t         65         \t       0.0594       \n",
      "         -          \t         0          \t       0.0000       \n",
      " /finance/currency  \t         1          \t       0.0009       \n",
      "       TOTAL        \t         1          \t       0.0009       \n",
      "         -          \t         0          \t       0.0000       \n",
      "/geography/mountain \t         3          \t       0.0027       \n",
      " /geography/island  \t         12         \t       0.0110       \n",
      "       TOTAL        \t         15         \t       0.0137       \n",
      "         -          \t         0          \t       0.0000       \n",
      "/government/political_party\t         13         \t       0.0119       \n",
      "/government/government\t         38         \t       0.0347       \n",
      "       TOTAL        \t         51         \t       0.0466       \n",
      "         -          \t         0          \t       0.0000       \n",
      " /internet/website  \t         3          \t       0.0027       \n",
      "       TOTAL        \t         3          \t       0.0027       \n",
      "         -          \t         10         \t       0.0091       \n",
      "/living_thing/animal\t         1          \t       0.0009       \n",
      "       TOTAL        \t         11         \t       0.0101       \n",
      "         -          \t        149         \t       0.1362       \n",
      "   /location/city   \t        161         \t       0.1472       \n",
      " /location/country  \t         97         \t       0.0887       \n",
      "/location/body_of_water\t         19         \t       0.0174       \n",
      " /location/cemetery \t         45         \t       0.0411       \n",
      " /location/province \t         31         \t       0.0283       \n",
      "  /location/county  \t         16         \t       0.0146       \n",
      "  /location/bridge  \t         1          \t       0.0009       \n",
      "       TOTAL        \t        461         \t       0.4214       \n",
      "         -          \t         0          \t       0.0000       \n",
      "/medicine/medical_treatment\t         2          \t       0.0018       \n",
      " /medicine/symptom  \t         1          \t       0.0009       \n",
      "       TOTAL        \t         3          \t       0.0027       \n",
      "         -          \t         0          \t       0.0000       \n",
      "/metropolitan_transit/transit_line\t         1          \t       0.0009       \n",
      "       TOTAL        \t         1          \t       0.0009       \n",
      "         -          \t         63         \t       0.0576       \n",
      "/organization/terrorist_organization\t         3          \t       0.0027       \n",
      "/organization/sports_team\t         52         \t       0.0475       \n",
      "/organization/company\t         60         \t       0.0548       \n",
      "/organization/educational_institution\t         32         \t       0.0293       \n",
      "/organization/sports_league\t         17         \t       0.0155       \n",
      "       TOTAL        \t        218         \t       0.1993       \n",
      "         -          \t         0          \t       0.0000       \n",
      " /people/ethnicity  \t         40         \t       0.0366       \n",
      "       TOTAL        \t         40         \t       0.0366       \n",
      "         -          \t         48         \t       0.0439       \n",
      "   /person/artist   \t         87         \t       0.0795       \n",
      "   /person/actor    \t         59         \t       0.0539       \n",
      "  /person/musician  \t         18         \t       0.0165       \n",
      "  /person/director  \t         20         \t       0.0183       \n",
      "   /person/author   \t         87         \t       0.0795       \n",
      "  /person/athlete   \t         34         \t       0.0311       \n",
      " /person/politician \t         27         \t       0.0247       \n",
      "/person/religious_leader\t         2          \t       0.0018       \n",
      "  /person/engineer  \t         12         \t       0.0110       \n",
      "   /person/coach    \t         10         \t       0.0091       \n",
      "  /person/soldier   \t         7          \t       0.0064       \n",
      "  /person/monarch   \t         1          \t       0.0009       \n",
      "   /person/doctor   \t         1          \t       0.0009       \n",
      "       TOTAL        \t        267         \t       0.2441       \n",
      "         -          \t         2          \t       0.0018       \n",
      " /product/airplane  \t         6          \t       0.0055       \n",
      "   /product/ship    \t         5          \t       0.0046       \n",
      "    /product/car    \t         5          \t       0.0046       \n",
      "/product/engine_device\t         2          \t       0.0018       \n",
      "/product/instrument \t         1          \t       0.0009       \n",
      "       TOTAL        \t         21         \t       0.0192       \n",
      "         -          \t         0          \t       0.0000       \n",
      "   /rail/railway    \t         3          \t       0.0027       \n",
      "       TOTAL        \t         3          \t       0.0027       \n",
      "         -          \t         0          \t       0.0000       \n",
      " /religion/religion \t         13         \t       0.0119       \n",
      "       TOTAL        \t         13         \t       0.0119       \n",
      "         -          \t         0          \t       0.0000       \n",
      "/transportation/road\t         7          \t       0.0064       \n",
      "       TOTAL        \t         7          \t       0.0064       \n",
      "         -          \t         0          \t       0.0000       \n",
      "       TOTAL        \t         0          \t       0.0000       \n"
     ]
    }
   ],
   "source": [
    "fathers = [n for n in graph.nodes if len(list(graph.successors(n)))]\n",
    "for f in fathers:\n",
    "    print_counter_tsv(f)"
   ]
  },
  {
   "cell_type": "markdown",
   "metadata": {},
   "source": [
    "# select the type"
   ]
  },
  {
   "cell_type": "code",
   "execution_count": 3,
   "metadata": {},
   "outputs": [],
   "source": [
    "# select by father: create datasets with/withouth each son of the inputed father"
   ]
  },
  {
   "cell_type": "code",
   "execution_count": null,
   "metadata": {},
   "outputs": [],
   "source": []
  }
 ],
 "metadata": {
  "kernelspec": {
   "display_name": "Python 3.8.10 64-bit ('experiments_venv': venv)",
   "language": "python",
   "name": "python3810jvsc74a57bd079df683e731faedfa1cd0700e6a6d6ef38a0db71c432737ab87ef6cee327a92e"
  },
  "language_info": {
   "codemirror_mode": {
    "name": "ipython",
    "version": 3
   },
   "file_extension": ".py",
   "mimetype": "text/x-python",
   "name": "python",
   "nbconvert_exporter": "python",
   "pygments_lexer": "ipython3",
   "version": "3.8.10"
  }
 },
 "nbformat": 4,
 "nbformat_minor": 4
}
